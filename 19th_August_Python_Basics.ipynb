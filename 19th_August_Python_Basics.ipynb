{
 "cells": [
  {
   "cell_type": "code",
   "execution_count": 5,
   "id": "6bdb3c6f-4100-45cd-a266-0965f143e48b",
   "metadata": {},
   "outputs": [
    {
     "data": {
      "text/plain": [
       "\"Topic : Python Basics Variable\\n1.Declare two variables 'x' and 'y', and assign them integer values. Swap the values of these variables without\\nusing any temporary variable.\""
      ]
     },
     "execution_count": 5,
     "metadata": {},
     "output_type": "execute_result"
    }
   ],
   "source": [
    "'''Topic : Python Basics Variable\n",
    "1.Declare two variables 'x' and 'y', and assign them integer values. Swap the values of these variables without\n",
    "using any temporary variable.'''"
   ]
  },
  {
   "cell_type": "code",
   "execution_count": 6,
   "id": "defddcb1-ed1e-4391-8461-2ef7ce0c27c8",
   "metadata": {},
   "outputs": [
    {
     "name": "stdout",
     "output_type": "stream",
     "text": [
      "After swapping the value of x is: 4\n",
      "After swapping the value of y is: 3\n"
     ]
    }
   ],
   "source": [
    "#declaring variables x and y and assigning them integer values\n",
    "x = 3 \n",
    "y = 4\n",
    "#code for swapping the values of these variables without using any temporary variable\n",
    "x = x + y\n",
    "y = x - y\n",
    "x = x - y\n",
    "#after swapping the values of x and y is\n",
    "print(\"After swapping the value of x is:\",x)\n",
    "print(\"After swapping the value of y is:\",y)"
   ]
  },
  {
   "cell_type": "code",
   "execution_count": 7,
   "id": "9d86aa8c-236e-4ad6-94aa-24e8f795de0a",
   "metadata": {},
   "outputs": [
    {
     "data": {
      "text/plain": [
       "'2. Create a program that calculates the area of a rectangle. Take the length and width as inputs from \\nthe user and store them in variables. Calculate and display the area.'"
      ]
     },
     "execution_count": 7,
     "metadata": {},
     "output_type": "execute_result"
    }
   ],
   "source": [
    "'''2. Create a program that calculates the area of a rectangle. Take the length and width as inputs from \n",
    "the user and store them in variables. Calculate and display the area.'''"
   ]
  },
  {
   "cell_type": "code",
   "execution_count": 10,
   "id": "3ef44ed8-cb0f-4b85-b609-ca6e074bbb21",
   "metadata": {},
   "outputs": [
    {
     "name": "stdin",
     "output_type": "stream",
     "text": [
      "Width of the rectangle is:  20.5\n",
      "Length of the rectangle is:  25.5\n"
     ]
    },
    {
     "name": "stdout",
     "output_type": "stream",
     "text": [
      "Area of the rectangle is: 522.75\n"
     ]
    }
   ],
   "source": [
    "#Taking the width and length of the rectangle as user input\n",
    "w = float(input(\"Width of the rectangle is: \"))\n",
    "l = float(input(\"Length of the rectangle is: \"))\n",
    "#A = Area of the rectangle\n",
    "A = w * l\n",
    "#displaying the area of the rectangle\n",
    "print(\"Area of the rectangle is:\",A)"
   ]
  },
  {
   "cell_type": "code",
   "execution_count": 11,
   "id": "941c03f9-3363-4b0a-bf0e-487710d32548",
   "metadata": {},
   "outputs": [
    {
     "data": {
      "text/plain": [
       "'3. Write a Python program that converts temperatures from Celsius to Fahrenheit. Take the \\ntemperature in Celsius as input, store it in a variable, convert it to Fahrenheit, and display\\nthe result'"
      ]
     },
     "execution_count": 11,
     "metadata": {},
     "output_type": "execute_result"
    }
   ],
   "source": [
    "'''3. Write a Python program that converts temperatures from Celsius to Fahrenheit. Take the \n",
    "temperature in Celsius as input, store it in a variable, convert it to Fahrenheit, and display\n",
    "the result'''"
   ]
  },
  {
   "cell_type": "code",
   "execution_count": 14,
   "id": "73c3d635-b45c-43b5-88f5-85dea26b83f3",
   "metadata": {},
   "outputs": [
    {
     "name": "stdin",
     "output_type": "stream",
     "text": [
      "The input temperature in Celsius is:  31\n"
     ]
    },
    {
     "name": "stdout",
     "output_type": "stream",
     "text": [
      "The Celsius temperature in Fahrenheit is:  87.80000000000001\n"
     ]
    }
   ],
   "source": [
    "# Celsius = C\n",
    "#Taking the temperature in Celsius as input\n",
    "C = float(input(\"The input temperature in Celsius is: \"))\n",
    "# Fahrenheit = F\n",
    "#Formula to convert Celsius to Fahrenheit\n",
    "F = (1.8 * C) + 32\n",
    "#displaying the Fahrenheit temperature\n",
    "print(\"The Celsius temperature in Fahrenheit is: \",F)"
   ]
  },
  {
   "cell_type": "code",
   "execution_count": 15,
   "id": "e5b5d728-3c47-428f-8b4e-f2efeef221ee",
   "metadata": {},
   "outputs": [],
   "source": [
    "#Topic: String Based Questions"
   ]
  },
  {
   "cell_type": "code",
   "execution_count": 16,
   "id": "b238b6ba-eb38-4295-bfa0-32ef4dbe9767",
   "metadata": {},
   "outputs": [
    {
     "data": {
      "text/plain": [
       "'1. Write a Python program that takes a string as input and prints the length of the string'"
      ]
     },
     "execution_count": 16,
     "metadata": {},
     "output_type": "execute_result"
    }
   ],
   "source": [
    "'''1. Write a Python program that takes a string as input and prints the length of the string'''"
   ]
  },
  {
   "cell_type": "code",
   "execution_count": 17,
   "id": "a1a0ea00-2b92-42bd-b744-12eace86ba2a",
   "metadata": {},
   "outputs": [
    {
     "name": "stdin",
     "output_type": "stream",
     "text": [
      "The input string is:  mahadeva\n"
     ]
    },
    {
     "name": "stdout",
     "output_type": "stream",
     "text": [
      "The length of the string is: 8\n"
     ]
    }
   ],
   "source": [
    "#str = string\n",
    "#Taking a string as input\n",
    "str = input(\"The input string is: \")\n",
    "#Printing the length of the string\n",
    "print(\"The length of the string is:\",len(str))"
   ]
  },
  {
   "cell_type": "code",
   "execution_count": 18,
   "id": "87358ecf-154e-4007-8c5a-8ccae8bf47f1",
   "metadata": {},
   "outputs": [
    {
     "data": {
      "text/plain": [
       "'2. Create a program that takes a sentence from the user and counts the number of \\nvowels (a,e,i,o,u) in the string.'"
      ]
     },
     "execution_count": 18,
     "metadata": {},
     "output_type": "execute_result"
    }
   ],
   "source": [
    "'''2. Create a program that takes a sentence from the user and counts the number of \n",
    "vowels (a,e,i,o,u) in the string.'''"
   ]
  },
  {
   "cell_type": "code",
   "execution_count": 19,
   "id": "88ba1740-5463-4086-8dbf-645ea92fa1e2",
   "metadata": {},
   "outputs": [
    {
     "name": "stdin",
     "output_type": "stream",
     "text": [
      "Enter a sentence:  I am a student\n"
     ]
    },
    {
     "name": "stdout",
     "output_type": "stream",
     "text": [
      "Number of vowels in the sentence: 5\n"
     ]
    }
   ],
   "source": [
    "# Take a sentence from the user\n",
    "sentence = input(\"Enter a sentence: \")\n",
    "\n",
    "# Convert the sentence to lowercase to make it case-insensitive\n",
    "sentence = sentence.lower()\n",
    "\n",
    "# Initialize a variable to count the vowels\n",
    "vowel_count = 0\n",
    "\n",
    "# Iterate through each character in the sentence\n",
    "for char in sentence:\n",
    "    if char in \"aeiou\":\n",
    "        vowel_count += 1\n",
    "\n",
    "# Display the result\n",
    "print(f\"Number of vowels in the sentence: {vowel_count}\")\n"
   ]
  },
  {
   "cell_type": "code",
   "execution_count": 20,
   "id": "2ba54b1e-16a0-4f7d-8569-2c63b6c88ee8",
   "metadata": {},
   "outputs": [
    {
     "data": {
      "text/plain": [
       "'3.Given a string, reverse the order of characters using string slicing and print the\\nreversed string.'"
      ]
     },
     "execution_count": 20,
     "metadata": {},
     "output_type": "execute_result"
    }
   ],
   "source": [
    "'''3.Given a string, reverse the order of characters using string slicing and print the\n",
    "reversed string.'''"
   ]
  },
  {
   "cell_type": "code",
   "execution_count": 21,
   "id": "712bb597-6872-4133-8fb6-077b8a1088a8",
   "metadata": {},
   "outputs": [
    {
     "name": "stdin",
     "output_type": "stream",
     "text": [
      "Take a string as input:  disha\n"
     ]
    },
    {
     "name": "stdout",
     "output_type": "stream",
     "text": [
      "After reversing the string is:\n"
     ]
    },
    {
     "data": {
      "text/plain": [
       "'ahsid'"
      ]
     },
     "execution_count": 21,
     "metadata": {},
     "output_type": "execute_result"
    }
   ],
   "source": [
    "#str = string\n",
    "#Taking a string as input\n",
    "str = input(\"Take a string as input: \")\n",
    "#Reverse the string\n",
    "print(\"After reversing the string is:\")\n",
    "str[ : :-1]"
   ]
  },
  {
   "cell_type": "code",
   "execution_count": 22,
   "id": "8aeac968-6153-4a5c-a789-9151a3069c43",
   "metadata": {},
   "outputs": [
    {
     "data": {
      "text/plain": [
       "'4. Write a program that takes a string as input and checks if it is a palindrome\\n(reads the same forwards and backwards)'"
      ]
     },
     "execution_count": 22,
     "metadata": {},
     "output_type": "execute_result"
    }
   ],
   "source": [
    "'''4. Write a program that takes a string as input and checks if it is a palindrome\n",
    "(reads the same forwards and backwards)'''"
   ]
  },
  {
   "cell_type": "code",
   "execution_count": 23,
   "id": "7ed4b3d0-360e-4678-8f06-ed3397144b1e",
   "metadata": {},
   "outputs": [
    {
     "name": "stdin",
     "output_type": "stream",
     "text": [
      "Enter a string:  madam\n"
     ]
    },
    {
     "name": "stdout",
     "output_type": "stream",
     "text": [
      "The input string is a palindrome.\n"
     ]
    }
   ],
   "source": [
    "def is_palindrome(s):\n",
    "    # Remove spaces and convert the string to lowercase\n",
    "    s = s.replace(\" \", \"\").lower()\n",
    "    # Check if the string is equal to its reverse\n",
    "    return s == s[::-1]\n",
    "\n",
    "# Take user input\n",
    "string = input(\"Enter a string: \")\n",
    "\n",
    "# Check if the input string is a palindrome\n",
    "if is_palindrome(string):\n",
    "    print(\"The input string is a palindrome.\")\n",
    "else:\n",
    "    print(\"The input string is not a palindrome.\")\n"
   ]
  },
  {
   "cell_type": "code",
   "execution_count": 24,
   "id": "b8e655bc-708b-4903-8e4d-ac51798c4f27",
   "metadata": {},
   "outputs": [
    {
     "data": {
      "text/plain": [
       "'5. Create a program that takes a string as input and removes all the spaces from it'"
      ]
     },
     "execution_count": 24,
     "metadata": {},
     "output_type": "execute_result"
    }
   ],
   "source": [
    "'''5. Create a program that takes a string as input and removes all the spaces from it'''"
   ]
  },
  {
   "cell_type": "code",
   "execution_count": 25,
   "id": "e3d3c638-5c3a-40d1-808a-7aa0369a600a",
   "metadata": {},
   "outputs": [
    {
     "name": "stdin",
     "output_type": "stream",
     "text": [
      "Enter a string:  '   pwskills   '\n"
     ]
    },
    {
     "name": "stdout",
     "output_type": "stream",
     "text": [
      "String after removing spaces: 'pwskills'\n"
     ]
    }
   ],
   "source": [
    "def remove_spaces(input_string):\n",
    "    # Use strip() method to remove spaces from the input string\n",
    "    return input_string.strip().replace(\" \", \"\")\n",
    "\n",
    "# Take user input\n",
    "input_string = input(\"Enter a string: \")\n",
    "\n",
    "# Remove spaces from the input string\n",
    "result_string = remove_spaces(input_string)\n",
    "\n",
    "# Print the result\n",
    "print(\"String after removing spaces:\", result_string)\n"
   ]
  },
  {
   "cell_type": "code",
   "execution_count": null,
   "id": "dabdd122-56a2-41fe-8df3-77c31def317e",
   "metadata": {},
   "outputs": [],
   "source": []
  }
 ],
 "metadata": {
  "kernelspec": {
   "display_name": "Python 3 (ipykernel)",
   "language": "python",
   "name": "python3"
  },
  "language_info": {
   "codemirror_mode": {
    "name": "ipython",
    "version": 3
   },
   "file_extension": ".py",
   "mimetype": "text/x-python",
   "name": "python",
   "nbconvert_exporter": "python",
   "pygments_lexer": "ipython3",
   "version": "3.10.8"
  }
 },
 "nbformat": 4,
 "nbformat_minor": 5
}
